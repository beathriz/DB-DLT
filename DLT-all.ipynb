{
 "cells": [
  {
   "cell_type": "code",
   "execution_count": null,
   "metadata": {},
   "outputs": [],
   "source": [
    "# Criar o Schema\n",
    "# Configurar uma storage credential (via interface) - databricks acessar o S3\n",
    "# Definir uma external location (via interface)"
   ]
  },
  {
   "cell_type": "code",
   "execution_count": null,
   "metadata": {},
   "outputs": [],
   "source": [
    "# caminho do S3\n",
    "external_location_path = \"url do bucket\"\n",
    "\n",
    "# Tabela fonte carregada do S3\n",
    "@dlt.table(\n",
    "    name=\"raw_data\",\n",
    "    comment=\"tabela do s3\",\n",
    "    table_properties={\n",
    "        \"quality\": \"bronze\"\n",
    "    }\n",
    ")\n",
    "\n",
    "@dlt.expect_all({ \n",
    "#na doc tem outros expect \n",
    "})\n",
    "\n",
    "def raw_table ( ... )\n",
    "df = (\n",
    "    spark.readStream.format(\"cloudFiles\")\n",
    "    .options(\"cloudFiles.format\", \"csv\") # conversão para .PARQUET\n",
    "    .options(\"header\", \"true\") \n",
    "    .options(\"multiLine\", \"true# regustro com várias linhas\")\n",
    "    .options(\"set\", \",\") # verificar delimitador por integração\n",
    "    .options(\"cloud\", \",\")\n",
    "\n",
    "\n",
    "\n",
    "\n",
    "\n",
    ")\n",
    "\n",
    "# Tratamento de nulos\n",
    "# Duplicatas: Deduplicação dos dados \n",
    "# Identificar método de escrita do dado (Full Overwrite, Append, Partitioned by) \n",
    "# Anonimização de dados\n",
    "\n",
    "\n",
    "def raw_data():\n",
    "    return (\n",
    "        spark.read.format(\"csv\")\n",
    "        .option(\"header\", \"true\")\n",
    "        .load(external_location_path)\n",
    "    )\n"
   ]
  }
 ],
 "metadata": {
  "kernelspec": {
   "display_name": "Python 3",
   "language": "python",
   "name": "python3"
  },
  "language_info": {
   "codemirror_mode": {
    "name": "ipython",
    "version": 3
   },
   "file_extension": ".py",
   "mimetype": "text/x-python",
   "name": "python",
   "nbconvert_exporter": "python",
   "pygments_lexer": "ipython3",
   "version": "3.12.3"
  }
 },
 "nbformat": 4,
 "nbformat_minor": 2
}
